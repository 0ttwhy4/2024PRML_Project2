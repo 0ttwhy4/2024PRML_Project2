{
 "cells": [
  {
   "cell_type": "code",
   "execution_count": 3,
   "metadata": {},
   "outputs": [],
   "source": [
    "import torch\n",
    "import torch.nn as nn\n",
    "from torchvision import transforms, datasets\n",
    "from torch.utils.data import DataLoader\n",
    "import cv2\n",
    "from models import ResNet18\n",
    "from config.unlabel_config import ensemble_config as ecfg"
   ]
  },
  {
   "cell_type": "code",
   "execution_count": 5,
   "metadata": {},
   "outputs": [],
   "source": [
    "valid_transforms = [\n",
    "            transforms.Resize(64),\n",
    "            transforms.ToTensor(),\n",
    "            transforms.Normalize([0.485, 0.456, 0.406], [0.229, 0.224, 0.225])\n",
    "        ]\n",
    "val_transform = transforms.Compose(valid_transforms)\n",
    "val_set = datasets.ImageFolder('/home/stu6/EuroSAT_PRML24/Task_B/val', val_transform)\n",
    "val_loader = DataLoader(val_set, batch_size=64, shuffle=False, num_workers=4)"
   ]
  },
  {
   "cell_type": "code",
   "execution_count": 11,
   "metadata": {},
   "outputs": [],
   "source": [
    "def val_ensemble(models, weights, val_loader, criterion):\n",
    "    for model in models:\n",
    "        model.train(False)\n",
    "    total_loss = 0.0\n",
    "    total_correct = 0\n",
    "    for inputs, labels in val_loader:\n",
    "        inputs = inputs.to('cuda')\n",
    "        labels = labels.to('cuda')\n",
    "        \n",
    "        for i, model in enumerate(models):\n",
    "            outputs = weights[i] * model(inputs)\n",
    "            _, prediction = torch.max(outputs, 1)\n",
    "            predictions += prediction * weights[i]\n",
    "        _, predictions = torch.max(predictions, 1)\n",
    "        total_correct += torch.sum(predictions == labels.data)\n",
    "        \n",
    "    val_loss = total_loss / len(val_loader.dataset)\n",
    "    val_acc = total_correct.double() / len(val_loader.dataset)\n",
    "    return val_loss, val_acc.item()"
   ]
  },
  {
   "cell_type": "code",
   "execution_count": 13,
   "metadata": {},
   "outputs": [
    {
     "ename": "IndexError",
     "evalue": "Dimension out of range (expected to be in range of [-1, 0], but got 1)",
     "output_type": "error",
     "traceback": [
      "\u001b[0;31m---------------------------------------------------------------------------\u001b[0m",
      "\u001b[0;31mIndexError\u001b[0m                                Traceback (most recent call last)",
      "Cell \u001b[0;32mIn[13], line 8\u001b[0m\n\u001b[1;32m      5\u001b[0m     model \u001b[38;5;241m=\u001b[39m model\u001b[38;5;241m.\u001b[39mto(\u001b[38;5;124m'\u001b[39m\u001b[38;5;124mcuda\u001b[39m\u001b[38;5;124m'\u001b[39m)\n\u001b[1;32m      6\u001b[0m     models\u001b[38;5;241m.\u001b[39mappend(model)\n\u001b[0;32m----> 8\u001b[0m val_loss, val_acc \u001b[38;5;241m=\u001b[39m val_ensemble(models, \n\u001b[1;32m      9\u001b[0m                                  weights\u001b[38;5;241m=\u001b[39mtorch\u001b[38;5;241m.\u001b[39mtensor([\u001b[38;5;241m1\u001b[39m,\u001b[38;5;241m1\u001b[39m,\u001b[38;5;241m1\u001b[39m]), \n\u001b[1;32m     10\u001b[0m                                  val_loader\u001b[38;5;241m=\u001b[39mval_loader, \n\u001b[1;32m     11\u001b[0m                                  criterion\u001b[38;5;241m=\u001b[39mnn\u001b[38;5;241m.\u001b[39mCrossEntropyLoss())\n",
      "Cell \u001b[0;32mIn[11], line 14\u001b[0m, in \u001b[0;36mval_ensemble\u001b[0;34m(models, weights, val_loader, criterion)\u001b[0m\n\u001b[1;32m     12\u001b[0m         _, prediction \u001b[38;5;241m=\u001b[39m torch\u001b[38;5;241m.\u001b[39mmax(outputs, \u001b[38;5;241m1\u001b[39m)\n\u001b[1;32m     13\u001b[0m         predictions \u001b[38;5;241m+\u001b[39m\u001b[38;5;241m=\u001b[39m prediction \u001b[38;5;241m*\u001b[39m weights[i]\n\u001b[0;32m---> 14\u001b[0m     _, predictions \u001b[38;5;241m=\u001b[39m torch\u001b[38;5;241m.\u001b[39mmax(predictions, \u001b[38;5;241m1\u001b[39m)\n\u001b[1;32m     15\u001b[0m     total_correct \u001b[38;5;241m+\u001b[39m\u001b[38;5;241m=\u001b[39m torch\u001b[38;5;241m.\u001b[39msum(predictions \u001b[38;5;241m==\u001b[39m labels\u001b[38;5;241m.\u001b[39mdata)\n\u001b[1;32m     17\u001b[0m val_loss \u001b[38;5;241m=\u001b[39m total_loss \u001b[38;5;241m/\u001b[39m \u001b[38;5;28mlen\u001b[39m(val_loader\u001b[38;5;241m.\u001b[39mdataset)\n",
      "\u001b[0;31mIndexError\u001b[0m: Dimension out of range (expected to be in range of [-1, 0], but got 1)"
     ]
    }
   ],
   "source": [
    "paths = ecfg['paths']\n",
    "models = []\n",
    "for path in paths:\n",
    "    model = torch.load(path)\n",
    "    model = model.to('cuda')\n",
    "    models.append(model)\n",
    "    \n",
    "val_loss, val_acc = val_ensemble(models, \n",
    "                                 weights=torch.tensor([1,1,1]), \n",
    "                                 val_loader=val_loader, \n",
    "                                 criterion=nn.CrossEntropyLoss())"
   ]
  },
  {
   "cell_type": "code",
   "execution_count": 12,
   "metadata": {},
   "outputs": [
    {
     "name": "stdout",
     "output_type": "stream",
     "text": [
      "1.1434409968058268\n",
      "0.7117283950617284\n"
     ]
    }
   ],
   "source": [
    "print(val_loss)\n",
    "print(val_acc)"
   ]
  }
 ],
 "metadata": {
  "kernelspec": {
   "display_name": "base",
   "language": "python",
   "name": "python3"
  },
  "language_info": {
   "codemirror_mode": {
    "name": "ipython",
    "version": 3
   },
   "file_extension": ".py",
   "mimetype": "text/x-python",
   "name": "python",
   "nbconvert_exporter": "python",
   "pygments_lexer": "ipython3",
   "version": "3.11.7"
  }
 },
 "nbformat": 4,
 "nbformat_minor": 2
}
